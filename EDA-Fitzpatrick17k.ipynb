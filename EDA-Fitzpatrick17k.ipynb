{
 "cells": [
  {
   "cell_type": "code",
   "execution_count": null,
   "id": "d9b4500a",
   "metadata": {},
   "outputs": [],
   "source": [
    "# 1) Install kagglehub if you haven't:\n",
    "#    pip install kagglehub --upgrade\n",
    "import os, shutil, zipfile, pandas as pd, kagglehub\n",
    "from pathlib import Path\n"
   ]
  },
  {
   "cell_type": "code",
   "execution_count": 17,
   "id": "76ab549f",
   "metadata": {},
   "outputs": [
    {
     "name": "stdout",
     "output_type": "stream",
     "text": [
      "⏬  Downloading via kagglehub …\n",
      "KaggleHub cache folder: C:\\Users\\yrsee\\.cache\\kagglehub\\datasets\\vinitasilaparasetty\\fitzpatrick-classification-by-ethnicity\\versions\\2\n"
     ]
    }
   ],
   "source": [
    "KAGGLE_SLUG = \"vinitasilaparasetty/fitzpatrick-classification-by-ethnicity\"\n",
    "DEST        = Path(\"fitzpatrick17k\")          # final clean layout\n",
    "DEST.mkdir(exist_ok=True, parents=True)\n",
    "\n",
    "# ── 2. Download (kagglehub auto-caches) ───────────────────────────────────\n",
    "print(\"⏬  Downloading via kagglehub …\")\n",
    "dl_path = Path(\n",
    "    kagglehub.dataset_download(KAGGLE_SLUG)   # returns cache path\n",
    ")\n",
    "print(\"KaggleHub cache folder:\", dl_path)\n",
    "\n"
   ]
  },
  {
   "cell_type": "code",
   "execution_count": 18,
   "id": "c0def9c8",
   "metadata": {},
   "outputs": [
    {
     "name": "stdout",
     "output_type": "stream",
     "text": [
      "📁  Copying fairface → fitzpatrick17k\\fairface\n",
      "📁  Copying fitz_undersampled_test_final.csv → fitzpatrick17k\\fitz_undersampled_test_final.csv\n",
      "📁  Copying fitz_undersampled_train_final.csv → fitzpatrick17k\\fitz_undersampled_train_final.csv\n"
     ]
    }
   ],
   "source": [
    "# ── 2. If a ZIP exists, unzip; else use the folder as-is ──────────────────\n",
    "zip_candidates = list(dl_path.glob(\"*.zip\"))\n",
    "if zip_candidates:\n",
    "    zip_file = zip_candidates[0]\n",
    "    print(\"📦  Extracting\", zip_file.name)\n",
    "    with zipfile.ZipFile(zip_file) as zf:\n",
    "        zf.extractall(DEST)\n",
    "else:\n",
    "    # The dataset is already extracted → copy contents to DEST\n",
    "    for item in dl_path.iterdir():\n",
    "        tgt = DEST / item.name\n",
    "        if tgt.exists():\n",
    "            continue\n",
    "        print(\"📁  Copying\", item.name, \"→\", tgt)\n",
    "        if item.is_dir():\n",
    "            shutil.copytree(item, tgt)\n",
    "        else:\n",
    "            shutil.copy2(item, tgt)\n"
   ]
  },
  {
   "cell_type": "code",
   "execution_count": 19,
   "id": "ebde2a64",
   "metadata": {},
   "outputs": [
    {
     "name": "stdout",
     "output_type": "stream",
     "text": [
      "✅  Dataset ready in: C:\\Users\\yrsee\\everything\\ACME-Outreach\\skin-diagnostic-engine\\fitzpatrick17k\n",
      "   ├─ fitzpatrick17k\\labels.csv\n",
      "   └─ fitzpatrick17k\\images\n"
     ]
    }
   ],
   "source": [
    "# ── 3. Standardize layout: move CSV + images/ ─────────────────────────────\n",
    "# Find the main CSV\n",
    "csv_path = next(DEST.rglob(\"*.csv\"))\n",
    "# Find the images folder (contains jpg / png)\n",
    "img_dir  = next(p for p in DEST.rglob(\"*\") if p.is_dir() and any(p.glob(\"*.jpg\")))\n",
    "\n",
    "csv_path.rename(DEST / \"labels.csv\")\n",
    "if img_dir.resolve() != (DEST / \"images\").resolve():\n",
    "    shutil.move(str(img_dir), DEST / \"images\")\n",
    "\n",
    "print(f\"✅  Dataset ready in: {DEST.resolve()}\")\n",
    "print(\"   ├─\", (DEST / 'labels.csv').relative_to(DEST.parent))\n",
    "print(\"   └─\", (DEST / 'images').relative_to(DEST.parent))\n",
    "\n"
   ]
  },
  {
   "cell_type": "code",
   "execution_count": 22,
   "id": "82a9b829",
   "metadata": {},
   "outputs": [
    {
     "name": "stdout",
     "output_type": "stream",
     "text": [
      "\n",
      "Fitzpatrick I–VI distribution:\n",
      " phototype\n",
      "I & II    903\n",
      "III       903\n",
      "IV        903\n",
      "V         903\n",
      "VI        903\n",
      "Name: count, dtype: int64\n"
     ]
    }
   ],
   "source": [
    "# ── 4. Quick sanity: view distribution ────────────────────────────────────\n",
    "df = pd.read_csv(DEST / \"labels.csv\")\n",
    "dist = df[\"phototype\"].value_counts().sort_index()\n",
    "print(\"\\nFitzpatrick I–VI distribution:\\n\", dist)\n"
   ]
  }
 ],
 "metadata": {
  "kernelspec": {
   "display_name": "Python 3",
   "language": "python",
   "name": "python3"
  },
  "language_info": {
   "codemirror_mode": {
    "name": "ipython",
    "version": 3
   },
   "file_extension": ".py",
   "mimetype": "text/x-python",
   "name": "python",
   "nbconvert_exporter": "python",
   "pygments_lexer": "ipython3",
   "version": "3.11.9"
  }
 },
 "nbformat": 4,
 "nbformat_minor": 5
}
